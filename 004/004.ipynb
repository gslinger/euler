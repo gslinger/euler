{
 "cells": [
  {
   "cell_type": "markdown",
   "metadata": {},
   "source": [
    "# Problem 4: Largest palindrome product\n",
    "\n",
    "A palindromic number reads the same both ways. The largest palindrome made from the product of two 2-digit numbers is 9009 = 91 × 99.\n",
    "\n",
    "Find the largest palindrome made from the product of two 3-digit numbers."
   ]
  },
  {
   "cell_type": "code",
   "execution_count": 1,
   "metadata": {},
   "outputs": [
    {
     "name": "stdout",
     "output_type": "stream",
     "text": [
      "24.7 ms ± 127 µs per loop (mean ± std. dev. of 5 runs, 25 loops each)\n"
     ]
    },
    {
     "data": {
      "text/plain": [
       "906609"
      ]
     },
     "execution_count": 1,
     "metadata": {},
     "output_type": "execute_result"
    }
   ],
   "source": [
    "def largest_palindrome_from_product() -> int:\n",
    "    a: int = 0\n",
    "    for x in range(999, 99, -1):\n",
    "        for y in range(999, x, -1):\n",
    "            xy: int = x * y\n",
    "            if xy > a and str(xy) == str(xy)[::-1]:\n",
    "                a = xy\n",
    "    return a\n",
    "\n",
    "%timeit -r5 -n25 largest_palindrome_from_product()\n",
    "largest_palindrome_from_product()"
   ]
  },
  {
   "cell_type": "code",
   "execution_count": null,
   "metadata": {},
   "outputs": [],
   "source": []
  }
 ],
 "metadata": {
  "kernelspec": {
   "display_name": "Python 3",
   "language": "python",
   "name": "python3"
  },
  "language_info": {
   "codemirror_mode": {
    "name": "ipython",
    "version": 3
   },
   "file_extension": ".py",
   "mimetype": "text/x-python",
   "name": "python",
   "nbconvert_exporter": "python",
   "pygments_lexer": "ipython3",
   "version": "3.8.5"
  }
 },
 "nbformat": 4,
 "nbformat_minor": 4
}
