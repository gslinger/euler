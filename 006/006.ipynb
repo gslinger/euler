{
 "cells": [
  {
   "cell_type": "markdown",
   "metadata": {},
   "source": [
    "# Problem 6: Sum square difference\n",
    "\n",
    "The sum of the squares of the first ten natural numbers is,\n",
    "\n",
    "$$1^2 + 2^2 + ... + 10^2 = 385$$\n",
    "\n",
    "The square of the sum of the first ten natural numbers is,\n",
    "\n",
    "$$(1 + 2 + ... + 10)^2 = 55^2 = 3025$$\n",
    "\n",
    "Hence the difference between the sum of the squares of the first ten natural numbers and the square of the sum is $3025 - 385 = 2640$.\n",
    "\n",
    "Find the difference between the sum of the squares of the first one hundred natural numbers and the square of the sum."
   ]
  },
  {
   "cell_type": "code",
   "execution_count": 1,
   "metadata": {},
   "outputs": [
    {
     "name": "stdout",
     "output_type": "stream",
     "text": [
      "317 µs ± 40.6 µs per loop (mean ± std. dev. of 5 runs, 25 loops each)\n"
     ]
    },
    {
     "data": {
      "text/plain": [
       "25164150"
      ]
     },
     "execution_count": 1,
     "metadata": {},
     "output_type": "execute_result"
    }
   ],
   "source": [
    "import pandas as pd\n",
    "\n",
    "def sum_square_difference(n: int):\n",
    "    x: pd.Series = pd.Series(range(1, (n + 1)))\n",
    "    return (x.sum() ** 2) - x.apply(lambda y: y ** 2).sum()\n",
    "\n",
    "%timeit -r5 -n25 sum_square_difference(100)\n",
    "sum_square_difference(100)"
   ]
  },
  {
   "cell_type": "markdown",
   "metadata": {},
   "source": [
    "Mathematical/Quicker solution. \n",
    "\n",
    "Source: https://brilliant.org/wiki/sum-of-n-n2-or-n3/#\n",
    "\n",
    "Sum of N: $$\\sum_{k=1}^{n}k = \\frac{n(n+1)}{2}$$\n",
    "\n",
    "Sum of N^2: $$\\sum_{k=1}^{n}k^{2} = \\frac{n(n + 1)(2n + 1)}{6}$$\n"
   ]
  },
  {
   "cell_type": "code",
   "execution_count": 5,
   "metadata": {},
   "outputs": [
    {
     "name": "stdout",
     "output_type": "stream",
     "text": [
      "862 ns ± 54.9 ns per loop (mean ± std. dev. of 5 runs, 25 loops each)\n"
     ]
    },
    {
     "data": {
      "text/plain": [
       "25164150"
      ]
     },
     "execution_count": 5,
     "metadata": {},
     "output_type": "execute_result"
    }
   ],
   "source": [
    "def sum_square_difference(n: int) -> int:\n",
    "    sum_n_squared: int = int(((n * (n + 1)) / 2) ** 2)\n",
    "    sum_squared_n: int = int(((n * (n + 1)) * (2 * n + 1)) / 6)\n",
    "    return sum_n_squared - sum_squared_n\n",
    "    \n",
    "%timeit -r5 -n25 sum_square_difference(100)\n",
    "sum_square_difference(100)"
   ]
  },
  {
   "cell_type": "code",
   "execution_count": null,
   "metadata": {},
   "outputs": [],
   "source": []
  }
 ],
 "metadata": {
  "kernelspec": {
   "display_name": "Python 3",
   "language": "python",
   "name": "python3"
  },
  "language_info": {
   "codemirror_mode": {
    "name": "ipython",
    "version": 3
   },
   "file_extension": ".py",
   "mimetype": "text/x-python",
   "name": "python",
   "nbconvert_exporter": "python",
   "pygments_lexer": "ipython3",
   "version": "3.8.5"
  }
 },
 "nbformat": 4,
 "nbformat_minor": 4
}
