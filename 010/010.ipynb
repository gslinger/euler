{
 "cells": [
  {
   "cell_type": "markdown",
   "metadata": {},
   "source": [
    "## Problem 10: Summation of primes\n",
    "\n",
    "The sum of the primes below 10 is 2 + 3 + 5 + 7 = 17.\n",
    "\n",
    "Find the sum of all the primes below two million."
   ]
  },
  {
   "cell_type": "code",
   "execution_count": 11,
   "metadata": {},
   "outputs": [
    {
     "name": "stdout",
     "output_type": "stream",
     "text": [
      "1.34 s ± 12.4 ms per loop (mean ± std. dev. of 10 runs, 1 loop each)\n"
     ]
    },
    {
     "data": {
      "text/plain": [
       "142913828922"
      ]
     },
     "execution_count": 11,
     "metadata": {},
     "output_type": "execute_result"
    }
   ],
   "source": [
    "from typing import Generator\n",
    "\n",
    "def sieve_of_eratosthenes() -> Generator:\n",
    "    '''source: https://code.activestate.com/recipes/117119-sieve-of-eratosthenes/'''\n",
    "    D: dict = {}  \n",
    "    q: int = 2  \n",
    "    while 1:\n",
    "        if q not in D:\n",
    "            yield q    \n",
    "            D[q*q] = [q] \n",
    "        else:\n",
    "            for p in D[q]:\n",
    "                D.setdefault(p+q,[]).append(p)\n",
    "            del D[q]   \n",
    "        q += 1\n",
    "\n",
    "def summation_of_primes(n: int) -> int:\n",
    "    total: int = 0\n",
    "    for x in eratosthenes():\n",
    "        if x >= n:\n",
    "            break\n",
    "        total += x\n",
    "    return total\n",
    "\n",
    "%timeit -r10 -n1 summation_of_primes(2e6)\n",
    "summation_of_primes(2e6)"
   ]
  },
  {
   "cell_type": "markdown",
   "metadata": {},
   "source": [
    "__________\n",
    "Better solution inspired by a solution i saw online. Much faster uses numpy. "
   ]
  },
  {
   "cell_type": "code",
   "execution_count": 41,
   "metadata": {},
   "outputs": [
    {
     "name": "stdout",
     "output_type": "stream",
     "text": [
      "89.5 ms ± 2.25 ms per loop (mean ± std. dev. of 10 runs, 1 loop each)\n"
     ]
    },
    {
     "data": {
      "text/plain": [
       "142913828922"
      ]
     },
     "execution_count": 41,
     "metadata": {},
     "output_type": "execute_result"
    }
   ],
   "source": [
    "import numpy as np\n",
    "\n",
    "def summation_of_primes(n: int) -> int:\n",
    "    is_prime: np.array = np.array([True] * (n + 1))\n",
    "    is_prime[0:2] = False\n",
    "    is_prime[2:4] = True\n",
    "    is_prime[2 ** 2::2] = False # Even numbers\n",
    "    p: int = 3\n",
    "    while p * p <= n:\n",
    "        is_prime[p ** 2::p] = False\n",
    "        p += 2\n",
    "        while not is_prime[p]: \n",
    "            p += 2\n",
    "    return sum(list(np.nonzero(is_prime)[0]))\n",
    "\n",
    "\n",
    "%timeit -r10 -n1 summation_of_primes(int(2e6))\n",
    "summation_of_primes(int(2e6))"
   ]
  },
  {
   "cell_type": "code",
   "execution_count": null,
   "metadata": {},
   "outputs": [],
   "source": []
  }
 ],
 "metadata": {
  "kernelspec": {
   "display_name": "Python 3",
   "language": "python",
   "name": "python3"
  },
  "language_info": {
   "codemirror_mode": {
    "name": "ipython",
    "version": 3
   },
   "file_extension": ".py",
   "mimetype": "text/x-python",
   "name": "python",
   "nbconvert_exporter": "python",
   "pygments_lexer": "ipython3",
   "version": "3.8.5"
  }
 },
 "nbformat": 4,
 "nbformat_minor": 4
}
