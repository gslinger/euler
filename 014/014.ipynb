{
 "cells": [
  {
   "cell_type": "markdown",
   "metadata": {},
   "source": [
    "## Problem 14: Longest Collatz sequence\n",
    "\n",
    "The following iterative sequence is defined for the set of positive integers:\n",
    "\n",
    "<var>n</var> → <var>n</var>/2 (<var>n</var> is even)  \n",
    "<var>n</var> → 3<var>n</var> + 1 (<var>n</var> is odd)\n",
    "\n",
    "Using the rule above and starting with 13, we generate the following sequence:\n",
    "\n",
    "<div class=\"center\">13 → 40 → 20 → 10 → 5 → 16 → 8 → 4 → 2 → 1</div>\n",
    "\n",
    "It can be seen that this sequence (starting at 13 and finishing at 1) contains 10 terms. Although it has not been proved yet (Collatz Problem), it is thought that all starting numbers finish at 1.\n",
    "\n",
    "Which starting number, under one million, produces the longest chain?\n",
    "\n",
    "**NOTE:** Once the chain starts the terms are allowed to go above one million.\n",
    "\n"
   ]
  },
  {
   "cell_type": "markdown",
   "metadata": {},
   "source": [
    "_____\n",
    "Brute Force... "
   ]
  },
  {
   "cell_type": "code",
   "execution_count": 15,
   "metadata": {},
   "outputs": [
    {
     "name": "stdout",
     "output_type": "stream",
     "text": [
      "30.1 ms ± 258 µs per loop (mean ± std. dev. of 7 runs, 1 loop each)\n"
     ]
    },
    {
     "data": {
      "text/plain": [
       "837799"
      ]
     },
     "execution_count": 15,
     "metadata": {},
     "output_type": "execute_result"
    }
   ],
   "source": [
    "from functools import lru_cache\n",
    "\n",
    "@lru_cache(maxsize=None) #  Auto-Memoization\n",
    "def collatz(n: int) -> int:\n",
    "    count: int = 1\n",
    "    while n > 1:\n",
    "        count += 1\n",
    "        if n % 2 == 0:\n",
    "            n /= 2\n",
    "        else:\n",
    "            n = (3 * n) + 1\n",
    "    return count\n",
    "\n",
    "def longest_collatz_sequence() -> int:\n",
    "    max_count: int = 0\n",
    "    for i in range(500001, 1000000, 2):\n",
    "        cur_count = collatz(i)\n",
    "        if cur_count > max_count:\n",
    "            max_count = cur_count\n",
    "            max_index: int = i\n",
    "    return max_index\n",
    "\n",
    "%timeit longest_collatz_sequence()\n",
    "longest_collatz_sequence()"
   ]
  },
  {
   "cell_type": "code",
   "execution_count": null,
   "metadata": {},
   "outputs": [],
   "source": []
  }
 ],
 "metadata": {
  "kernelspec": {
   "display_name": "Python 3",
   "language": "python",
   "name": "python3"
  },
  "language_info": {
   "codemirror_mode": {
    "name": "ipython",
    "version": 3
   },
   "file_extension": ".py",
   "mimetype": "text/x-python",
   "name": "python",
   "nbconvert_exporter": "python",
   "pygments_lexer": "ipython3",
   "version": "3.8.5"
  }
 },
 "nbformat": 4,
 "nbformat_minor": 4
}
