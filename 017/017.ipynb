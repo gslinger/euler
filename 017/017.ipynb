{
 "cells": [
  {
   "cell_type": "markdown",
   "metadata": {},
   "source": [
    "## Problem 17: Number letter counts\n",
    "\n",
    "If the numbers 1 to 5 are written out in words: one, two, three, four, five, then there are 3 + 3 + 5 + 4 + 4 = 19 letters used in total.\n",
    "\n",
    "If all the numbers from 1 to 1000 (one thousand) inclusive were written out in words, how many letters would be used?\n",
    "\n",
    "**NOTE:** Do not count spaces or hyphens. For example, 342 (three hundred and forty-two) contains 23 letters and 115 (one hundred and fifteen) contains 20 letters. The use of \"and\" when writing out numbers is in compliance with British usage."
   ]
  },
  {
   "cell_type": "code",
   "execution_count": 1,
   "metadata": {},
   "outputs": [],
   "source": [
    "ones = [\"zero\", \"one\", \"two\", \"three\", \"four\", \"five\", \"six\", \"seven\", \"eight\", \"nine\", \n",
    "        \"ten\", \"eleven\", \"twelve\",\"thirteen\", \"fourteen\", \"fifteen\", \"sixteen\", \"seventeen\", \"eighteen\", \"nineteen\"]\n",
    "tens = [None, None, \"twenty\", \"thirty\", \"forty\", \"fifty\", \"sixty\", \"seventy\", \"eighty\", \"ninety\"]"
   ]
  },
  {
   "cell_type": "code",
   "execution_count": 10,
   "metadata": {},
   "outputs": [
    {
     "name": "stdout",
     "output_type": "stream",
     "text": [
      "1.16 ms ± 37.4 µs per loop (mean ± std. dev. of 5 runs, 3 loops each)\n"
     ]
    },
    {
     "data": {
      "text/plain": [
       "21124"
      ]
     },
     "execution_count": 10,
     "metadata": {},
     "output_type": "execute_result"
    }
   ],
   "source": [
    "def num_to_english(n: int) -> str:\n",
    "    if 0 <= n < 20:\n",
    "        return ones[n]\n",
    "    elif 20 <= n <= 90 and n % 10 == 0:\n",
    "        return tens[n // 10]\n",
    "    elif 20 < n < 100:\n",
    "        return tens[n // 10] + ones[n % 10]\n",
    "    elif 100 <= n <= 900 and n % 100 == 0:\n",
    "        return ones[n // 100] + \"hundred\"\n",
    "    elif 100 < n < 1000:\n",
    "        return ones[n // 100] + \"hundredand\" + num_to_english(n % 100)\n",
    "    elif n == 1000:\n",
    "        return \"onethousand\"\n",
    "\n",
    "def number_letter_counts(n: int) -> int:\n",
    "    total: int = 0\n",
    "    for i in range(1, n + 1):\n",
    "        words: str = num_to_english(i)\n",
    "        total += len(words)\n",
    "    return total\n",
    "    \n",
    "%timeit -r5 -n3 number_letter_counts(1000)\n",
    "number_letter_counts(1000)"
   ]
  },
  {
   "cell_type": "code",
   "execution_count": 3,
   "metadata": {},
   "outputs": [
    {
     "name": "stdout",
     "output_type": "stream",
     "text": [
      "39.9 ms ± 850 µs per loop (mean ± std. dev. of 5 runs, 3 loops each)\n"
     ]
    },
    {
     "data": {
      "text/plain": [
       "21124"
      ]
     },
     "execution_count": 3,
     "metadata": {},
     "output_type": "execute_result"
    }
   ],
   "source": [
    "from num2words import num2words\n",
    "\n",
    "def number_letter_counts(n: int) -> int:\n",
    "    total: int = 0\n",
    "    for i in range(1, n + 1):\n",
    "        total += len(num2words(i).replace(\" \", \"\").replace(\"-\", \"\"))\n",
    "    return total\n",
    "\n",
    "%timeit -r5 -n3 number_letter_counts(1000)\n",
    "number_letter_counts(1000)"
   ]
  },
  {
   "cell_type": "code",
   "execution_count": null,
   "metadata": {},
   "outputs": [],
   "source": []
  }
 ],
 "metadata": {
  "kernelspec": {
   "display_name": "Python 3",
   "language": "python",
   "name": "python3"
  },
  "language_info": {
   "codemirror_mode": {
    "name": "ipython",
    "version": 3
   },
   "file_extension": ".py",
   "mimetype": "text/x-python",
   "name": "python",
   "nbconvert_exporter": "python",
   "pygments_lexer": "ipython3",
   "version": "3.8.5"
  }
 },
 "nbformat": 4,
 "nbformat_minor": 4
}
