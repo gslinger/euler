{
 "cells": [
  {
   "cell_type": "markdown",
   "metadata": {},
   "source": [
    "## Problem 19: Counting Sundays\n",
    "\n",
    "You are given the following information, but you may prefer to do some research for yourself.\n",
    "\n",
    "*   1 Jan 1900 was a Monday.\n",
    "*   Thirty days has September,  \n",
    "    April, June and November.  \n",
    "    All the rest have thirty-one,  \n",
    "    Saving February alone,  \n",
    "    Which has twenty-eight, rain or shine.  \n",
    "    And on leap years, twenty-nine.\n",
    "*   A leap year occurs on any year evenly divisible by 4, but not on a century unless it is divisible by 400.\n",
    "\n",
    "How many Sundays fell on the first of the month during the twentieth century (1 Jan 1901 to 31 Dec 2000)?"
   ]
  },
  {
   "cell_type": "code",
   "execution_count": 14,
   "metadata": {},
   "outputs": [
    {
     "name": "stdout",
     "output_type": "stream",
     "text": [
      "13.9 ms ± 249 µs per loop (mean ± std. dev. of 5 runs, 3 loops each)\n"
     ]
    },
    {
     "data": {
      "text/plain": [
       "171"
      ]
     },
     "execution_count": 14,
     "metadata": {},
     "output_type": "execute_result"
    }
   ],
   "source": [
    "import pandas as pd\n",
    "from datetime import datetime\n",
    "\n",
    "def counting_sundays(start: str, end: str) -> int:\n",
    "    datelist = pd.date_range(start=start, end=end, freq='M') - pd.offsets.MonthBegin(1)\n",
    "    datelist = datelist.tolist()\n",
    "    count: int = 0\n",
    "    for x in datelist:\n",
    "        if x.weekday() == 6:\n",
    "            count += 1\n",
    "    return count\n",
    "\n",
    "%timeit -r5 -n3 counting_sundays(\"1901-01-01\", \"2000-12-01\")\n",
    "counting_sundays(\"1901-01-01\", \"2000-12-01\")"
   ]
  },
  {
   "cell_type": "code",
   "execution_count": null,
   "metadata": {},
   "outputs": [],
   "source": []
  }
 ],
 "metadata": {
  "kernelspec": {
   "display_name": "Python 3",
   "language": "python",
   "name": "python3"
  },
  "language_info": {
   "codemirror_mode": {
    "name": "ipython",
    "version": 3
   },
   "file_extension": ".py",
   "mimetype": "text/x-python",
   "name": "python",
   "nbconvert_exporter": "python",
   "pygments_lexer": "ipython3",
   "version": "3.8.5"
  }
 },
 "nbformat": 4,
 "nbformat_minor": 4
}
