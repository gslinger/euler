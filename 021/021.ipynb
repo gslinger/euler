{
 "cells": [
  {
   "cell_type": "markdown",
   "metadata": {},
   "source": [
    "## Problem 21: Amicable numbers\n",
    "\n",
    "Let d(_n_) be defined as the sum of proper divisors of _n_ (numbers less than _n_ which divide evenly into _n_).  \n",
    "If d(_a_) = _b_ and d(_b_) = _a_, where _a_ ≠ _b_, then _a_ and _b_ are an amicable pair and each of _a_ and _b_ are called amicable numbers.\n",
    "\n",
    "For example, the proper divisors of 220 are 1, 2, 4, 5, 10, 11, 20, 22, 44, 55 and 110; therefore d(220) = 284\\. The proper divisors of 284 are 1, 2, 4, 71 and 142; so d(284) = 220.\n",
    "\n",
    "Evaluate the sum of all the amicable numbers under 10000."
   ]
  },
  {
   "cell_type": "code",
   "execution_count": 32,
   "metadata": {},
   "outputs": [
    {
     "name": "stdout",
     "output_type": "stream",
     "text": [
      "13.1 ms ± 0 ns per loop (mean ± std. dev. of 1 run, 5 loops each)\n"
     ]
    },
    {
     "data": {
      "text/plain": [
       "31626"
      ]
     },
     "execution_count": 32,
     "metadata": {},
     "output_type": "execute_result"
    }
   ],
   "source": [
    "from functools import lru_cache\n",
    "\n",
    "\n",
    "@lru_cache(maxsize=None)\n",
    "def sum_of_divisors(n: int) -> int:\n",
    "    sum_ = 0\n",
    "    for i in range(1, round(n ** 0.5) + 1):\n",
    "        if n % i == 0:\n",
    "            if i * i != n:\n",
    "                sum_ += n // i\n",
    "            sum_ += i\n",
    "    return sum_ - n\n",
    "\n",
    "def sum_of_amicable_numbers(limit: int) -> int:\n",
    "    total: int = 0\n",
    "    for i in range(2, limit + 1):\n",
    "        x = sum_of_divisors(i)\n",
    "        if sum_of_divisors(x) == i and i != x:\n",
    "            total += i\n",
    "    return total\n",
    "\n",
    "%timeit -r1 -n5 sum_of_amicable_numbers(10000)\n",
    "sum_of_amicable_numbers(10000)"
   ]
  }
 ],
 "metadata": {
  "kernelspec": {
   "display_name": "Python 3",
   "language": "python",
   "name": "python3"
  },
  "language_info": {
   "codemirror_mode": {
    "name": "ipython",
    "version": 3
   },
   "file_extension": ".py",
   "mimetype": "text/x-python",
   "name": "python",
   "nbconvert_exporter": "python",
   "pygments_lexer": "ipython3",
   "version": "3.8.5"
  }
 },
 "nbformat": 4,
 "nbformat_minor": 4
}
