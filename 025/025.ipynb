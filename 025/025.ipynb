{
 "cells": [
  {
   "cell_type": "markdown",
   "metadata": {},
   "source": [
    "## Problem 25: 1000-digit Fibonacci number\n",
    "\n",
    "The Fibonacci sequence is defined by the recurrence relation:\n",
    "\n",
    "> F<sub>_n_</sub> = F<sub>_n_−1</sub> + F<sub>_n_−2</sub>, where F<sub>1</sub> = 1 and F<sub>2</sub> = 1.\n",
    "\n",
    "Hence the first 12 terms will be:\n",
    "\n",
    "> F<sub>1</sub> = 1  \n",
    "> F<sub>2</sub> = 1  \n",
    "> F<sub>3</sub> = 2  \n",
    "> F<sub>4</sub> = 3  \n",
    "> F<sub>5</sub> = 5  \n",
    "> F<sub>6</sub> = 8  \n",
    "> F<sub>7</sub> = 13  \n",
    "> F<sub>8</sub> = 21  \n",
    "> F<sub>9</sub> = 34  \n",
    "> F<sub>10</sub> = 55  \n",
    "> F<sub>11</sub> = 89  \n",
    "> F<sub>12</sub> = 144\n",
    "\n",
    "The 12th term, F<sub>12</sub>, is the first term to contain three digits.\n",
    "\n",
    "What is the index of the first term in the Fibonacci sequence to contain 1000 digits?"
   ]
  },
  {
   "cell_type": "code",
   "execution_count": 8,
   "metadata": {},
   "outputs": [
    {
     "name": "stdout",
     "output_type": "stream",
     "text": [
      "27.2 ms ± 103 µs per loop (mean ± std. dev. of 5 runs, 3 loops each)\n"
     ]
    },
    {
     "data": {
      "text/plain": [
       "4782"
      ]
     },
     "execution_count": 8,
     "metadata": {},
     "output_type": "execute_result"
    }
   ],
   "source": [
    "from typing import Generator\n",
    "\n",
    "def n_digit_fibonacci_number(n: int) -> int:\n",
    "    def fib() -> Generator:\n",
    "        yield 0\n",
    "        last: int = 0\n",
    "        next: int = 1\n",
    "        while 1:\n",
    "            last, next = next, last + next\n",
    "            yield next\n",
    "    index: int = 0\n",
    "    for x in fib():\n",
    "        index += 1\n",
    "        if len(str(x)) >= n:\n",
    "            return index\n",
    "    \n",
    "%timeit -r5 -n3 n_digit_fibonacci_number(1000)\n",
    "n_digit_fibonacci_number(1000)"
   ]
  },
  {
   "cell_type": "markdown",
   "metadata": {},
   "source": [
    "____\n",
    "Can't remember how this works.. "
   ]
  },
  {
   "cell_type": "code",
   "execution_count": 6,
   "metadata": {},
   "outputs": [
    {
     "data": {
      "text/plain": [
       "4782"
      ]
     },
     "execution_count": 6,
     "metadata": {},
     "output_type": "execute_result"
    }
   ],
   "source": [
    "from math import log\n",
    "\n",
    "int(((log(10) * (1000 - 1) + log(5) / 2) / log((1 + 5 ** 0.5) / 2)) + 1)"
   ]
  },
  {
   "cell_type": "code",
   "execution_count": null,
   "metadata": {},
   "outputs": [],
   "source": []
  }
 ],
 "metadata": {
  "kernelspec": {
   "display_name": "Python 3",
   "language": "python",
   "name": "python3"
  },
  "language_info": {
   "codemirror_mode": {
    "name": "ipython",
    "version": 3
   },
   "file_extension": ".py",
   "mimetype": "text/x-python",
   "name": "python",
   "nbconvert_exporter": "python",
   "pygments_lexer": "ipython3",
   "version": "3.8.5"
  }
 },
 "nbformat": 4,
 "nbformat_minor": 4
}
