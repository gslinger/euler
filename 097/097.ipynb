{
 "cells": [
  {
   "cell_type": "markdown",
   "metadata": {},
   "source": [
    "## Problem 97: Large non-Mersenne prime\n",
    "    \n",
    "The first known prime found to exceed one million digits was discovered in 1999, and is a Mersenne prime of the form 2<sup>6972593</sup>−1; it contains exactly 2,098,960 digits. Subsequently other Mersenne primes, of the form 2<sup>_p_</sup>−1, have been found which contain more digits.\n",
    "\n",
    "However, in 2004 there was found a massive non-Mersenne prime which contains 2,357,207 digits: 28433×2<sup>7830457</sup>+1.\n",
    "\n",
    "Find the last ten digits of this prime number."
   ]
  },
  {
   "cell_type": "code",
   "execution_count": 2,
   "metadata": {},
   "outputs": [
    {
     "name": "stdout",
     "output_type": "stream",
     "text": [
      "33.2 ms ± 2.51 ms per loop (mean ± std. dev. of 5 runs, 3 loops each)\n"
     ]
    },
    {
     "data": {
      "text/plain": [
       "8739992577"
      ]
     },
     "execution_count": 2,
     "metadata": {},
     "output_type": "execute_result"
    }
   ],
   "source": [
    "def last_n_digits_of_x(x: int, n: int) -> int:\n",
    "    return x % 10 ** n\n",
    "    \n",
    "%timeit -r5 -n3 last_n_digits_of_x((28433 * (2 ** 7830457) + 1), 10)\n",
    "last_n_digits_of_x((28433 * (2 ** 7830457) + 1), 10)"
   ]
  },
  {
   "cell_type": "code",
   "execution_count": null,
   "metadata": {},
   "outputs": [],
   "source": []
  }
 ],
 "metadata": {
  "kernelspec": {
   "display_name": "Python 3",
   "language": "python",
   "name": "python3"
  },
  "language_info": {
   "codemirror_mode": {
    "name": "ipython",
    "version": 3
   },
   "file_extension": ".py",
   "mimetype": "text/x-python",
   "name": "python",
   "nbconvert_exporter": "python",
   "pygments_lexer": "ipython3",
   "version": "3.8.5"
  }
 },
 "nbformat": 4,
 "nbformat_minor": 4
}
